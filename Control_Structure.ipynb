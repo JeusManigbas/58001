{
  "nbformat": 4,
  "nbformat_minor": 0,
  "metadata": {
    "colab": {
      "provenance": [],
      "authorship_tag": "ABX9TyOdyBfbwLdx0GeB4nGcipfl",
      "include_colab_link": true
    },
    "kernelspec": {
      "name": "python3",
      "display_name": "Python 3"
    },
    "language_info": {
      "name": "python"
    }
  },
  "cells": [
    {
      "cell_type": "markdown",
      "metadata": {
        "id": "view-in-github",
        "colab_type": "text"
      },
      "source": [
        "<a href=\"https://colab.research.google.com/github/JeusManigbas/OOP58001/blob/main/Control_Structure.ipynb\" target=\"_parent\"><img src=\"https://colab.research.google.com/assets/colab-badge.svg\" alt=\"Open In Colab\"/></a>"
      ]
    },
    {
      "cell_type": "markdown",
      "source": [
        "Conditional Statement"
      ],
      "metadata": {
        "id": "PfjKhvIhDnvz"
      }
    },
    {
      "cell_type": "code",
      "source": [
        "#if statement\n",
        "if 5>2:\n",
        "  print(\"five is greater than 2\")"
      ],
      "metadata": {
        "colab": {
          "base_uri": "https://localhost:8080/"
        },
        "id": "-o7KkNWrF5Ud",
        "outputId": "a7cf90e3-f9da-4ef0-854e-e50f0b6c195b"
      },
      "execution_count": 5,
      "outputs": [
        {
          "output_type": "stream",
          "name": "stdout",
          "text": [
            "five is greater than 2\n"
          ]
        }
      ]
    },
    {
      "cell_type": "code",
      "source": [
        "x=input()\n",
        "y=input()\n",
        "\n",
        "if x>y:\n",
        "  print(x+\" is greater than \"+y)"
      ],
      "metadata": {
        "colab": {
          "base_uri": "https://localhost:8080/"
        },
        "id": "iGwxX31hGHUO",
        "outputId": "e7d994a5-44a7-44e4-ff4e-903c2afe3547"
      },
      "execution_count": 12,
      "outputs": [
        {
          "output_type": "stream",
          "name": "stdout",
          "text": [
            "5\n",
            "2\n",
            "5 is greater than 2\n"
          ]
        }
      ]
    },
    {
      "cell_type": "code",
      "execution_count": 1,
      "metadata": {
        "colab": {
          "base_uri": "https://localhost:8080/"
        },
        "id": "FUGRcadoDb6j",
        "outputId": "4916c249-7939-460e-dbf8-255aa8c8fd78"
      },
      "outputs": [
        {
          "output_type": "stream",
          "name": "stdout",
          "text": [
            "b is greater than a\n"
          ]
        }
      ],
      "source": [
        "a=12\n",
        "b=100\n",
        "if b>a:\n",
        "  print(\"b is greater than a\")"
      ]
    },
    {
      "cell_type": "code",
      "source": [
        "#elif statement\n",
        "\n",
        "a=100\n",
        "b=100\n",
        "\n",
        "if a>b:\n",
        "  print(\"a is greater than b\")\n",
        "elif b>a:\n",
        "  print(\"b is greater than a\")"
      ],
      "metadata": {
        "id": "qDJexaIUHYl1"
      },
      "execution_count": 16,
      "outputs": []
    },
    {
      "cell_type": "code",
      "source": [
        "#else statement\n",
        "if a>b:\n",
        "  print(\"a is greater than b\")\n",
        "elif b<a:\n",
        "  print(\"b is greater than a\")\n",
        "else:\n",
        "  print(\"a and b are equal\")"
      ],
      "metadata": {
        "colab": {
          "base_uri": "https://localhost:8080/"
        },
        "id": "Xmvpjcv3H2kD",
        "outputId": "deee71be-4a8b-4227-8bee-b231c3168b85"
      },
      "execution_count": 17,
      "outputs": [
        {
          "output_type": "stream",
          "name": "stdout",
          "text": [
            "a and b are equal\n"
          ]
        }
      ]
    },
    {
      "cell_type": "code",
      "source": [
        "a=12\n",
        "b=12\n",
        "if b>a:\n",
        "  print (\"b is greater than a\")\n",
        "elif a==b:\n",
        "  print(\"a and b are equal\")"
      ],
      "metadata": {
        "colab": {
          "base_uri": "https://localhost:8080/"
        },
        "id": "cUhMDCmPFUz9",
        "outputId": "63caf05a-a2b0-424a-e6a5-2c4e32f6f083"
      },
      "execution_count": 4,
      "outputs": [
        {
          "output_type": "stream",
          "name": "stdout",
          "text": [
            "a and b are equal\n"
          ]
        }
      ]
    },
    {
      "cell_type": "code",
      "source": [
        "#Short hand If.. Else statement\n",
        "a=2\n",
        "b=330\n",
        "print(\"A\")if a>b else print(\"B\")"
      ],
      "metadata": {
        "colab": {
          "base_uri": "https://localhost:8080/"
        },
        "id": "ooBoN7tcRI-A",
        "outputId": "7ce63c99-3585-4a77-bf62-b599a182f455"
      },
      "execution_count": 45,
      "outputs": [
        {
          "output_type": "stream",
          "name": "stdout",
          "text": [
            "B\n"
          ]
        }
      ]
    },
    {
      "cell_type": "code",
      "source": [
        "#Short hand If.. Else statement\n",
        "a=200\n",
        "b=33\n",
        "c=500\n",
        "if a>b and c>a:\n",
        "  print(\"Both conditions are true\")"
      ],
      "metadata": {
        "colab": {
          "base_uri": "https://localhost:8080/"
        },
        "id": "ZjQGEa_6RbBK",
        "outputId": "3db4f384-791f-4f68-ce5b-c1eb7c85eb0c"
      },
      "execution_count": 47,
      "outputs": [
        {
          "output_type": "stream",
          "name": "stdout",
          "text": [
            "Both conditions are true\n"
          ]
        }
      ]
    },
    {
      "cell_type": "code",
      "source": [
        "#Short hand If.. Else statement\n",
        "a=200\n",
        "b=33\n",
        "c=500\n",
        "if a<b or a>c:\n",
        "  print(\"At least one of the conditions is true\")"
      ],
      "metadata": {
        "id": "X48CWUHrRop6"
      },
      "execution_count": 49,
      "outputs": []
    },
    {
      "cell_type": "code",
      "source": [
        "#Nested if\n",
        "x=41\n",
        "if x>10:\n",
        "  print(\"x is above 10\")\n",
        "  if x>20:\n",
        "    print(\"and also above 20\")\n",
        "    if x>30:\n",
        "      print(\"and also above 30\")\n",
        "      if x>40:\n",
        "        print(\"and also above 40\")\n",
        "        if x<50:\n",
        "          print(\"but below 50\")\n",
        "\n"
      ],
      "metadata": {
        "colab": {
          "base_uri": "https://localhost:8080/"
        },
        "id": "TwvcxzPeJL-d",
        "outputId": "0f240727-89ae-4577-9087-ca0b3c97570b"
      },
      "execution_count": 23,
      "outputs": [
        {
          "output_type": "stream",
          "name": "stdout",
          "text": [
            "x is above 10\n",
            "and also above 20\n",
            "and also above 30\n",
            "and also above 40\n",
            "but below 50\n"
          ]
        }
      ]
    },
    {
      "cell_type": "markdown",
      "source": [
        "Example 1"
      ],
      "metadata": {
        "id": "_iqJWCj3MjjA"
      }
    },
    {
      "cell_type": "code",
      "source": [
        "age=int(input(\"Enter age: \"))\n",
        "if age >=18:\n",
        "  print(\"Qualified to vote\")\n",
        "else:\n",
        "  print(\"Not qualified to vote\")"
      ],
      "metadata": {
        "colab": {
          "base_uri": "https://localhost:8080/"
        },
        "id": "NUeyUy_TLleq",
        "outputId": "d7d02ade-bada-4539-843c-e37118f6cc78"
      },
      "execution_count": 26,
      "outputs": [
        {
          "output_type": "stream",
          "name": "stdout",
          "text": [
            "Enter age: 18\n",
            "Qualified to vote\n"
          ]
        }
      ]
    },
    {
      "cell_type": "markdown",
      "source": [
        "Example 2"
      ],
      "metadata": {
        "id": "YlPY7xTOMlTO"
      }
    },
    {
      "cell_type": "code",
      "source": [
        "x=int(input(\"Input a number: \"))\n",
        "if x>=1:\n",
        "  print(\"It is a POSITIVE number\")\n",
        "elif x<0:\n",
        "  print(\"it is a NEGATIVE number\")\n",
        "else:\n",
        "  print(\"It is a ZERO\")"
      ],
      "metadata": {
        "colab": {
          "base_uri": "https://localhost:8080/"
        },
        "id": "KRsXOGEiMmvf",
        "outputId": "e1588d22-56bd-410a-8f53-3b098cb545e5"
      },
      "execution_count": 34,
      "outputs": [
        {
          "output_type": "stream",
          "name": "stdout",
          "text": [
            "Input a number: -2\n",
            "it is a NEGATIVE number\n"
          ]
        }
      ]
    },
    {
      "cell_type": "markdown",
      "source": [
        "Example 3"
      ],
      "metadata": {
        "id": "8Eqf7TK2MnD2"
      }
    },
    {
      "cell_type": "code",
      "source": [
        "grade = int(input(\"Enter grade: \"))\n",
        "if grade >=70:\n",
        "  print(\"Passed\")\n",
        "elif grade >= 65:\n",
        "  print(\"Remedial\")\n",
        "else:\n",
        "  print(\"Failed\")"
      ],
      "metadata": {
        "colab": {
          "base_uri": "https://localhost:8080/"
        },
        "id": "JutNfmv9Mo3H",
        "outputId": "400b70f6-2dde-458b-93c0-e6948647cb15"
      },
      "execution_count": 44,
      "outputs": [
        {
          "output_type": "stream",
          "name": "stdout",
          "text": [
            "Enter grade: 71\n",
            "Passed\n"
          ]
        }
      ]
    }
  ]
}