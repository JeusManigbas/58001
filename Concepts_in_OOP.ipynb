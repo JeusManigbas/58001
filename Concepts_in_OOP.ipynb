{
  "nbformat": 4,
  "nbformat_minor": 0,
  "metadata": {
    "colab": {
      "provenance": [],
      "authorship_tag": "ABX9TyOMQ8DOtq+X1G3BEk4MBShl",
      "include_colab_link": true
    },
    "kernelspec": {
      "name": "python3",
      "display_name": "Python 3"
    },
    "language_info": {
      "name": "python"
    }
  },
  "cells": [
    {
      "cell_type": "markdown",
      "metadata": {
        "id": "view-in-github",
        "colab_type": "text"
      },
      "source": [
        "<a href=\"https://colab.research.google.com/github/JeusManigbas/OOP58001/blob/main/Concepts_in_OOP.ipynb\" target=\"_parent\"><img src=\"https://colab.research.google.com/assets/colab-badge.svg\" alt=\"Open In Colab\"/></a>"
      ]
    },
    {
      "cell_type": "code",
      "source": [
        "#Class Constuctor\n",
        "class Car:\n",
        "  pass"
      ],
      "metadata": {
        "id": "vljrVQwhOIPo"
      },
      "execution_count": 1,
      "outputs": []
    },
    {
      "cell_type": "code",
      "source": [
        "#Crerate a class\n",
        "class MyNumber:\n",
        "  x=5\n",
        "num1=MyNumber()\n",
        "print(num1.x)"
      ],
      "metadata": {
        "colab": {
          "base_uri": "https://localhost:8080/"
        },
        "id": "vWD2pm2LPa6Q",
        "outputId": "d878819c-6fc7-4050-cca1-4ec8302a3f34"
      },
      "execution_count": 2,
      "outputs": [
        {
          "output_type": "stream",
          "name": "stdout",
          "text": [
            "5\n"
          ]
        }
      ]
    },
    {
      "cell_type": "code",
      "source": [
        "class Person:\n",
        "  def __init__(self,name,age):\n",
        "    self.name=name\n",
        "    self.age=age\n",
        "P1=Person(\"Jeus\",18)\n",
        "print(P1.age)\n",
        "print(P1.name)"
      ],
      "metadata": {
        "colab": {
          "base_uri": "https://localhost:8080/"
        },
        "id": "av2HepwfRlOR",
        "outputId": "6b36ca78-6c83-4b2b-9197-95b0f6426350"
      },
      "execution_count": 12,
      "outputs": [
        {
          "output_type": "stream",
          "name": "stdout",
          "text": [
            "18\n",
            "Jeus\n"
          ]
        }
      ]
    },
    {
      "cell_type": "code",
      "source": [
        "class Person:\n",
        "  def __init__(self,name,age):\n",
        "    self.name=name\n",
        "    self.age=age\n",
        "  def myFunction(self):\n",
        "    print(\"Hello my name is\", self.name)\n",
        "P1=Person(\"Jeus\",18)\n",
        "\n",
        "P1.myFunction()"
      ],
      "metadata": {
        "colab": {
          "base_uri": "https://localhost:8080/"
        },
        "id": "ZMevkjQ2P5oR",
        "outputId": "e07236d7-90eb-4431-c04e-e4280ef8febd"
      },
      "execution_count": 13,
      "outputs": [
        {
          "output_type": "stream",
          "name": "stdout",
          "text": [
            "Hello my name is Jeus\n"
          ]
        }
      ]
    },
    {
      "cell_type": "code",
      "source": [
        "#Identify the Object Properties\n",
        "\n",
        "P1.name=\"Jeus\"\n",
        "print(P1.name)\n",
        "P1.myFunction()"
      ],
      "metadata": {
        "colab": {
          "base_uri": "https://localhost:8080/"
        },
        "id": "W7I7kuI9Rt1w",
        "outputId": "d9826d90-c328-4841-d798-10b393dd96ce"
      },
      "execution_count": 16,
      "outputs": [
        {
          "output_type": "stream",
          "name": "stdout",
          "text": [
            "Jeus\n",
            "Hello my name is Jeus\n"
          ]
        }
      ]
    },
    {
      "cell_type": "code",
      "source": [
        "#Compute for the area of a square\n",
        "class Shapes:\n",
        "  def __init__(self,sides):     #Initial function to name the attributes\n",
        "    self.side=sides\n",
        "\n",
        "  def area(self):               #method/formula to compute for the area of a square\n",
        "    return self.side*self.side\n",
        "\n",
        "  def display(self):            #method to display the area\n",
        "    print(\"The area of the square is \",self.area())\n",
        "\n",
        "square=Shapes(4)\n",
        "square.display()"
      ],
      "metadata": {
        "colab": {
          "base_uri": "https://localhost:8080/"
        },
        "id": "ukSwbyS0TCRo",
        "outputId": "49688dc3-4d8b-4573-9c0e-c3da5875ea42"
      },
      "execution_count": 22,
      "outputs": [
        {
          "output_type": "stream",
          "name": "stdout",
          "text": [
            "The area of the square is  16\n"
          ]
        }
      ]
    },
    {
      "cell_type": "code",
      "source": [
        "class Student:\n",
        "    def __init__(self, name, std_number, school):\n",
        "        self.name = name\n",
        "        self.std_number = std_number\n",
        "        self.school = school\n",
        "    \n",
        "    def display_attri(self):\n",
        "        print(\"Name:\", self.name)\n",
        "        print(\"Student number:\", self.std_number)\n",
        "        print(\"School:\", self.school)\n",
        "\n",
        "student = Student(\"Jeus Miguel Mangbas\", 202211226, \"Adamson University\")\n",
        "student.display_attri()"
      ],
      "metadata": {
        "colab": {
          "base_uri": "https://localhost:8080/"
        },
        "id": "ijNNuqgBVwGI",
        "outputId": "0bb35f0a-25e7-42af-dfcb-1e38249595ea"
      },
      "execution_count": 39,
      "outputs": [
        {
          "output_type": "stream",
          "name": "stdout",
          "text": [
            "Name: Jeus Miguel Mangbas\n",
            "Student number: 202211226\n",
            "School: Adamson University\n"
          ]
        }
      ]
    }
  ]
}