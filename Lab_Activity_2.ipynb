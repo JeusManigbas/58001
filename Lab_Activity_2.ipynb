{
  "nbformat": 4,
  "nbformat_minor": 0,
  "metadata": {
    "colab": {
      "provenance": [],
      "authorship_tag": "ABX9TyOfJKTVrHGwQp9nTDBcLRMd",
      "include_colab_link": true
    },
    "kernelspec": {
      "name": "python3",
      "display_name": "Python 3"
    },
    "language_info": {
      "name": "python"
    }
  },
  "cells": [
    {
      "cell_type": "markdown",
      "metadata": {
        "id": "view-in-github",
        "colab_type": "text"
      },
      "source": [
        "<a href=\"https://colab.research.google.com/github/JeusManigbas/OOP58001/blob/main/Lab_Activity_2.ipynb\" target=\"_parent\"><img src=\"https://colab.research.google.com/assets/colab-badge.svg\" alt=\"Open In Colab\"/></a>"
      ]
    },
    {
      "cell_type": "code",
      "execution_count": 38,
      "metadata": {
        "colab": {
          "base_uri": "https://localhost:8080/"
        },
        "id": "AZO0TEyl28Ia",
        "outputId": "272eed7c-1de1-4253-cca5-da659a5208a9"
      },
      "outputs": [
        {
          "output_type": "stream",
          "name": "stdout",
          "text": [
            "Enter the radius of the circle: 5\n",
            "The perimeter of the circle: 78.54\n",
            "The area of the cirlce: 31.42\n"
          ]
        }
      ],
      "source": [
        "class Circle:\n",
        "  def  __init__(self, rad,π):\n",
        "    self.rad = rad\n",
        "    self.π = π\n",
        "\n",
        "  def area(self):\n",
        "    return 2 * self.π * self.rad\n",
        "    \n",
        "  def perimeter(self):\n",
        "    return self.π * self.rad ** 2\n",
        "    \n",
        "  def result(self):\n",
        "    print(\"The perimeter of the circle:\", round(self.perimeter(), 2))\n",
        "    print(\"The area of the cirlce:\", round(self.area(), 2))\n",
        "\n",
        "r = int(input(\"Enter the radius of the circle: \"))\n",
        "\n",
        "value = Circle(r, 3.14159265)\n",
        "value.result()"
      ]
    }
  ]
}