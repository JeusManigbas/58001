{
  "nbformat": 4,
  "nbformat_minor": 0,
  "metadata": {
    "colab": {
      "provenance": [],
      "authorship_tag": "ABX9TyPnaSN0YpsGNZZ/6MQmhzo3",
      "include_colab_link": true
    },
    "kernelspec": {
      "name": "python3",
      "display_name": "Python 3"
    },
    "language_info": {
      "name": "python"
    }
  },
  "cells": [
    {
      "cell_type": "markdown",
      "metadata": {
        "id": "view-in-github",
        "colab_type": "text"
      },
      "source": [
        "<a href=\"https://colab.research.google.com/github/JeusManigbas/OOP58001/blob/main/Lab_Activity_2.ipynb\" target=\"_parent\"><img src=\"https://colab.research.google.com/assets/colab-badge.svg\" alt=\"Open In Colab\"/></a>"
      ]
    },
    {
      "cell_type": "code",
      "execution_count": 3,
      "metadata": {
        "colab": {
          "base_uri": "https://localhost:8080/"
        },
        "id": "AZO0TEyl28Ia",
        "outputId": "9426883f-03d3-45fc-b600-9d023736690e"
      },
      "outputs": [
        {
          "output_type": "stream",
          "name": "stdout",
          "text": [
            "Enter the radius of the circle: 5\n",
            "The area of the circle: 78.54\n",
            "The perimeter of the cirlce: 31.42\n"
          ]
        }
      ],
      "source": [
        "class Circle:\n",
        "  def  __init__(self, rad,π):\n",
        "    self.rad = rad\n",
        "    self.π = π\n",
        "\n",
        "  def area(self):\n",
        "    return 2 * self.π * self.rad\n",
        "    \n",
        "  def perimeter(self):\n",
        "    return self.π * self.rad ** 2\n",
        "    \n",
        "  def result(self):\n",
        "    print(\"The area of the circle:\", round(self.perimeter(), 2))\n",
        "    print(\"The perimeter of the cirlce:\", round(self.area(), 2))\n",
        "\n",
        "r = int(input(\"Enter the radius of the circle: \"))\n",
        "\n",
        "value = Circle(r, 3.14159265)\n",
        "value.result()"
      ]
    }
  ]
}