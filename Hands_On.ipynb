{
  "nbformat": 4,
  "nbformat_minor": 0,
  "metadata": {
    "colab": {
      "provenance": [],
      "authorship_tag": "ABX9TyNGRMMMe0q7o/nUK2f/M5Q1",
      "include_colab_link": true
    },
    "kernelspec": {
      "name": "python3",
      "display_name": "Python 3"
    },
    "language_info": {
      "name": "python"
    }
  },
  "cells": [
    {
      "cell_type": "markdown",
      "metadata": {
        "id": "view-in-github",
        "colab_type": "text"
      },
      "source": [
        "<a href=\"https://colab.research.google.com/github/JeusManigbas/OOP58001/blob/main/Hands_On.ipynb\" target=\"_parent\"><img src=\"https://colab.research.google.com/assets/colab-badge.svg\" alt=\"Open In Colab\"/></a>"
      ]
    },
    {
      "cell_type": "code",
      "source": [
        "class Person:\n",
        "  def __init__(self, student, prelim, midterm, final):\n",
        "    self.student = student\n",
        "    self.__prelim = prelim\n",
        "    self.__midterm = midterm\n",
        "    self.__final = final\n",
        "  def Grade(self):\n",
        "    return (self.__prelim * 0.3) + (self.__midterm * 0.3) + (self.__final * 0.4)\n",
        "  def display(self):\n",
        "   print(f\"{self.student} grade for prelim is {self.__prelim}, for midterm is {self.__midterm}, and for finals is {self.__final} with an avererage grade of {self.Grade()}\")\n",
        "\n",
        "class std1(Person):\n",
        "  def __init__(self):\n",
        "    student = \"Student 1\"\n",
        "    prelim = float(input(f\"(Student1) Input the grade for prelim: \"))\n",
        "    midterm = float(input(f\"(Student2) Input the grade for midterm: \"))\n",
        "    final = float(input(f\"(Student3) Input the grade for final: \"))8\n",
        "    super().__init__(student, prelim, midterm, final)\n",
        "class std2(Person):\n",
        "  def __init__(self):\n",
        "    student = \"Student 2\"\n",
        "    prelim = float(input(f\"(Student1) Input the grade for prelim: \"))\n",
        "    midterm = float(input(f\"(Student2) Input the grade for midterm: \"))\n",
        "    final = float(input(f\"(Student3) Input the grade for final: \"))\n",
        "    super().__init__(student, prelim, midterm, final)\n",
        "class std3(Person):\n",
        "  def __init__(self):\n",
        "    student = \"Student 3\"\n",
        "    prelim = float(input(f\"(Student1) Input the grade for prelim: \"))\n",
        "    midterm = float(input(f\"(Student2) Input the grade for midterm: \"))\n",
        "    final = float(input(f\"(Student3) Input the grade for final: \"))\n",
        "    super().__init__(student, prelim, midterm, final)\n",
        "\n",
        "Std1 = std1()\n",
        "Std2 = std2()\n",
        "Std3 = std3()\n",
        "\n",
        "Std1.display()\n",
        "Std2.display()\n",
        "Std3.display()"
      ],
      "metadata": {
        "colab": {
          "base_uri": "https://localhost:8080/"
        },
        "id": "xQbTr5hNrlA5",
        "outputId": "7b15c732-1e6d-410e-adf0-b23a13d4931d"
      },
      "execution_count": 35,
      "outputs": [
        {
          "output_type": "stream",
          "name": "stdout",
          "text": [
            "(Student1) Input the grade for prelim: 90\n",
            "(Student2) Input the grade for midterm: 80\n",
            "(Student3) Input the grade for final: 70\n",
            "(Student1) Input the grade for prelim: 80\n",
            "(Student2) Input the grade for midterm: 90\n",
            "(Student3) Input the grade for final: 70\n",
            "(Student1) Input the grade for prelim: 70\n",
            "(Student2) Input the grade for midterm: 90\n",
            "(Student3) Input the grade for final: 0\n",
            "Student 1 grade for prelim is 90.0, for midterm is 80.0, and for finals is 70.0 with an avererage grade of 79.0\n",
            "Student 2 grade for prelim is 80.0, for midterm is 90.0, and for finals is 70.0 with an avererage grade of 79.0\n",
            "Student 3 grade for prelim is 70.0, for midterm is 90.0, and for finals is 0.0 with an avererage grade of 48.0\n"
          ]
        }
      ]
    }
  ]
}