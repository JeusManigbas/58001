{
  "nbformat": 4,
  "nbformat_minor": 0,
  "metadata": {
    "colab": {
      "provenance": [],
      "authorship_tag": "ABX9TyOkKgG7kPmFhOXeflp83cUw",
      "include_colab_link": true
    },
    "kernelspec": {
      "name": "python3",
      "display_name": "Python 3"
    },
    "language_info": {
      "name": "python"
    }
  },
  "cells": [
    {
      "cell_type": "markdown",
      "metadata": {
        "id": "view-in-github",
        "colab_type": "text"
      },
      "source": [
        "<a href=\"https://colab.research.google.com/github/JeusManigbas/OOP58001/blob/main/Operations_and_expressions_in_python.ipynb\" target=\"_parent\"><img src=\"https://colab.research.google.com/assets/colab-badge.svg\" alt=\"Open In Colab\"/></a>"
      ]
    },
    {
      "cell_type": "markdown",
      "source": [
        "Boolean Operators"
      ],
      "metadata": {
        "id": "pBnLF37gTInp"
      }
    },
    {
      "cell_type": "code",
      "execution_count": null,
      "metadata": {
        "colab": {
          "base_uri": "https://localhost:8080/"
        },
        "id": "t6du8OcfS3on",
        "outputId": "ad00a186-6ad1-421f-f32d-0fc8d5f3006e"
      },
      "outputs": [
        {
          "output_type": "stream",
          "name": "stdout",
          "text": [
            "True\n",
            "False\n",
            "False\n"
          ]
        }
      ],
      "source": [
        "print(10>9)\n",
        "print(10==9)\n",
        "print(10<9)"
      ]
    },
    {
      "cell_type": "markdown",
      "source": [
        "Bool() function"
      ],
      "metadata": {
        "id": "c5jEZR5TUeYG"
      }
    },
    {
      "cell_type": "code",
      "source": [
        "print(bool(\"Hello\"))\n",
        "print(bool(1))\n",
        "print(bool(0))\n",
        "print(bool(None))\n",
        "print(bool(True))"
      ],
      "metadata": {
        "colab": {
          "base_uri": "https://localhost:8080/"
        },
        "id": "iqEbuJ9LUoP0",
        "outputId": "e8055e6e-c4b9-4991-c968-d803e1ffe7eb"
      },
      "execution_count": null,
      "outputs": [
        {
          "output_type": "stream",
          "name": "stdout",
          "text": [
            "True\n",
            "True\n",
            "False\n",
            "False\n",
            "True\n"
          ]
        }
      ]
    },
    {
      "cell_type": "markdown",
      "source": [
        "Functions can return a boolean"
      ],
      "metadata": {
        "id": "FygxUKzQVPpf"
      }
    },
    {
      "cell_type": "code",
      "source": [
        "def myFunction():\n",
        "  return True\n",
        "print(myFunction())"
      ],
      "metadata": {
        "colab": {
          "base_uri": "https://localhost:8080/"
        },
        "id": "6pWQ6cHjVUvn",
        "outputId": "8ee9f41b-5e31-4041-8260-c8043c348573"
      },
      "execution_count": null,
      "outputs": [
        {
          "output_type": "stream",
          "name": "stdout",
          "text": [
            "True\n"
          ]
        }
      ]
    },
    {
      "cell_type": "code",
      "source": [
        "def myFunction():\n",
        "  return True\n",
        "\n",
        "if myFunction():\n",
        "  print(\"YES!\")\n",
        "else:\n",
        "  print(\"NO!\")"
      ],
      "metadata": {
        "colab": {
          "base_uri": "https://localhost:8080/"
        },
        "id": "9cYHgBj_Whx8",
        "outputId": "76953b87-13a1-499e-b0d2-ad8aab4b8269"
      },
      "execution_count": null,
      "outputs": [
        {
          "output_type": "stream",
          "name": "stdout",
          "text": [
            "YES!\n"
          ]
        }
      ]
    },
    {
      "cell_type": "markdown",
      "source": [
        "You try!"
      ],
      "metadata": {
        "id": "37EIpQZvXRXL"
      }
    },
    {
      "cell_type": "code",
      "source": [
        "print(10>9)\n",
        "a=6\n",
        "b=7\n",
        "print(a==b)\n",
        "print(a!=a)"
      ],
      "metadata": {
        "colab": {
          "base_uri": "https://localhost:8080/"
        },
        "id": "nbxCm-J6XVNL",
        "outputId": "c68615cf-0fd3-44bf-e4ce-b964f9432b4a"
      },
      "execution_count": null,
      "outputs": [
        {
          "output_type": "stream",
          "name": "stdout",
          "text": [
            "True\n",
            "False\n",
            "False\n"
          ]
        }
      ]
    },
    {
      "cell_type": "markdown",
      "source": [
        "Python Operators"
      ],
      "metadata": {
        "id": "haF0DquXXzNq"
      }
    },
    {
      "cell_type": "code",
      "source": [
        "print(10+5)\n",
        "print(10-5)\n",
        "print(10*5)\n",
        "print(10/5)\n",
        "print(10%5)\n",
        "print(10//3)\n",
        "print(10**2)"
      ],
      "metadata": {
        "colab": {
          "base_uri": "https://localhost:8080/"
        },
        "id": "q1nQsKzpX7Qr",
        "outputId": "af0527d0-040f-4df2-8495-35cdb03e6080"
      },
      "execution_count": null,
      "outputs": [
        {
          "output_type": "stream",
          "name": "stdout",
          "text": [
            "15\n",
            "5\n",
            "50\n",
            "2.0\n",
            "0\n",
            "3\n",
            "100\n"
          ]
        }
      ]
    },
    {
      "cell_type": "markdown",
      "source": [
        "Python bitwise Operators"
      ],
      "metadata": {
        "id": "uMIQscquZziv"
      }
    },
    {
      "cell_type": "code",
      "source": [
        "a=60\n",
        "b=13\n",
        "a>>1"
      ],
      "metadata": {
        "colab": {
          "base_uri": "https://localhost:8080/"
        },
        "id": "LfQkO8k4ZyDQ",
        "outputId": "cdfc6803-9866-4508-8057-2b5414aeea09"
      },
      "execution_count": null,
      "outputs": [
        {
          "output_type": "execute_result",
          "data": {
            "text/plain": [
              "30"
            ]
          },
          "metadata": {},
          "execution_count": 31
        }
      ]
    },
    {
      "cell_type": "markdown",
      "source": [
        "Python assignment Operators"
      ],
      "metadata": {
        "id": "SZIVx4fEg_kg"
      }
    },
    {
      "cell_type": "code",
      "source": [
        "a=5\n",
        "a+=3 #same as x = x + 3\n",
        "print(a)\n",
        "\n",
        "b=5\n",
        "b-=3 #same as x = x - 3\n",
        "print(b)\n",
        "\n",
        "c=5\n",
        "c*=3 #same as x = x * 3\n",
        "print(c)\n",
        "\n",
        "d=5\n",
        "d/=3 #same as x = x / 3\n",
        "print(d)\n",
        "\n",
        "e=5\n",
        "e%=3 #same as x = x % 3\n",
        "print(e)"
      ],
      "metadata": {
        "id": "W13OXERQjk20",
        "outputId": "ebe7bfa2-b0fc-41a9-e153-e3cd067234e0",
        "colab": {
          "base_uri": "https://localhost:8080/"
        }
      },
      "execution_count": 17,
      "outputs": [
        {
          "output_type": "stream",
          "name": "stdout",
          "text": [
            "8\n",
            "2\n",
            "15\n",
            "1.6666666666666667\n",
            "2\n"
          ]
        }
      ]
    },
    {
      "cell_type": "markdown",
      "source": [
        "Logical Operators"
      ],
      "metadata": {
        "id": "Jl-inM0tjvyD"
      }
    },
    {
      "cell_type": "code",
      "source": [
        "#and or xor not\n",
        "\n",
        "a=True\n",
        "b=False \n",
        "\n",
        "a is a"
      ],
      "metadata": {
        "id": "k_KT8HSZj0vz",
        "outputId": "ebdb4430-b38e-4ae1-8ff3-831c55eccf5a",
        "colab": {
          "base_uri": "https://localhost:8080/"
        }
      },
      "execution_count": 12,
      "outputs": [
        {
          "output_type": "execute_result",
          "data": {
            "text/plain": [
              "True"
            ]
          },
          "metadata": {},
          "execution_count": 12
        }
      ]
    },
    {
      "cell_type": "code",
      "source": [
        "#and or xor not\n",
        "\n",
        "a=True\n",
        "b=False \n",
        "\n",
        "print(a and b)"
      ],
      "metadata": {
        "id": "8pmMz2lrk8Gk",
        "outputId": "8b791dff-cac4-4eca-a7be-af4f1beb1431",
        "colab": {
          "base_uri": "https://localhost:8080/"
        }
      },
      "execution_count": 19,
      "outputs": [
        {
          "output_type": "stream",
          "name": "stdout",
          "text": [
            "False\n"
          ]
        }
      ]
    },
    {
      "cell_type": "code",
      "source": [
        "#and or xor not\n",
        "\n",
        "a=True\n",
        "b=False \n",
        "\n",
        "print(not(a and b))"
      ],
      "metadata": {
        "id": "qJqwFCnGkyVs",
        "outputId": "f36fe398-2e87-4689-9021-08da8cfe65a1",
        "colab": {
          "base_uri": "https://localhost:8080/"
        }
      },
      "execution_count": 18,
      "outputs": [
        {
          "output_type": "stream",
          "name": "stdout",
          "text": [
            "True\n"
          ]
        }
      ]
    },
    {
      "cell_type": "markdown",
      "source": [
        "Identity Operators"
      ],
      "metadata": {
        "id": "5fub8JDFj54M"
      }
    },
    {
      "cell_type": "code",
      "source": [
        "a=True\n",
        "b=False\n",
        "\n",
        "a is a \n",
        "a is not b"
      ],
      "metadata": {
        "id": "7ohc_g32kHds",
        "outputId": "329ae910-768a-4000-ad1a-4bc63669389a",
        "colab": {
          "base_uri": "https://localhost:8080/"
        }
      },
      "execution_count": 13,
      "outputs": [
        {
          "output_type": "execute_result",
          "data": {
            "text/plain": [
              "True"
            ]
          },
          "metadata": {},
          "execution_count": 13
        }
      ]
    }
  ]
}