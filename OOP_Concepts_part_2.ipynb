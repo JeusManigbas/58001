{
  "nbformat": 4,
  "nbformat_minor": 0,
  "metadata": {
    "colab": {
      "provenance": [],
      "authorship_tag": "ABX9TyP/C6Mf9Jn859+LS4qv5Ntk",
      "include_colab_link": true
    },
    "kernelspec": {
      "name": "python3",
      "display_name": "Python 3"
    },
    "language_info": {
      "name": "python"
    }
  },
  "cells": [
    {
      "cell_type": "markdown",
      "metadata": {
        "id": "view-in-github",
        "colab_type": "text"
      },
      "source": [
        "<a href=\"https://colab.research.google.com/github/JeusManigbas/OOP58001/blob/main/OOP_Concepts_part_2.ipynb\" target=\"_parent\"><img src=\"https://colab.research.google.com/assets/colab-badge.svg\" alt=\"Open In Colab\"/></a>"
      ]
    },
    {
      "cell_type": "code",
      "execution_count": 7,
      "metadata": {
        "colab": {
          "base_uri": "https://localhost:8080/"
        },
        "id": "RKxs1wdEVwD0",
        "outputId": "110d42c8-b867-45a6-964e-28defcc5525a"
      },
      "outputs": [
        {
          "output_type": "stream",
          "name": "stdout",
          "text": [
            "Griffon Vulture flies above the clouds\n",
            "Common Crane flies above the clouds\n",
            "Emu is the national bird of the Philippines\n"
          ]
        }
      ],
      "source": [
        "class Birds:\n",
        "  def __init__(self,bird_name):\n",
        "    self.bird_name = bird_name\n",
        "  def flying_birds(self):\n",
        "    print(f\"{self.bird_name} flies above the clouds\")\n",
        "  def non_flying_birds(self):\n",
        "    print(f\"{self.bird_name} is the national bird of the Philippines\")\n",
        "\n",
        "vulture = Birds(\"Griffon Vulture\")\n",
        "crane = Birds(\"Common Crane\")\n",
        "emu = Birds(\"Emu\")\n",
        "\n",
        "vulture.flying_birds()\n",
        "crane.flying_birds()\n",
        "emu.non_flying_birds()"
      ]
    },
    {
      "cell_type": "code",
      "source": [
        "#Encapsulation\n",
        "class foo:\n",
        "  def __init__(self,a,b):\n",
        "    self.__a=a\n",
        "    self.__b=b\n",
        "  def add(self):\n",
        "    return self.__a+self.__b\n",
        "foo_object=foo(3,4)\n",
        "foo_object.add()\n",
        "foo_object.a = 5\n",
        "foo_object.add()"
      ],
      "metadata": {
        "colab": {
          "base_uri": "https://localhost:8080/"
        },
        "id": "ySJsKjrgZGU0",
        "outputId": "9fcd2a26-02cf-44aa-b36c-29e52f70c4d0"
      },
      "execution_count": 18,
      "outputs": [
        {
          "output_type": "execute_result",
          "data": {
            "text/plain": [
              "7"
            ]
          },
          "metadata": {},
          "execution_count": 18
        }
      ]
    },
    {
      "cell_type": "code",
      "source": [
        "class Counter:\n",
        "  def __init__(self):\n",
        "    self.current=0\n",
        "  def increment(self):\n",
        "    self.current +=1\n",
        "  def value(self):\n",
        "    return self.current\n",
        "  def reset(self):\n",
        "    self.current=0\n",
        "counter=Counter()\n",
        "counter.increment\n",
        "counter.value()\n",
        "counter.reset()\n",
        "counter.value()"
      ],
      "metadata": {
        "colab": {
          "base_uri": "https://localhost:8080/"
        },
        "id": "ccNqwW-Pb2s5",
        "outputId": "bbaa38c1-7bfd-4988-a29b-45bd7adbf070"
      },
      "execution_count": 24,
      "outputs": [
        {
          "output_type": "execute_result",
          "data": {
            "text/plain": [
              "0"
            ]
          },
          "metadata": {},
          "execution_count": 24
        }
      ]
    },
    {
      "cell_type": "code",
      "source": [
        "#Inheritance\n",
        "class Person:\n",
        "  def __init__(self,name,birthdate):\n",
        "    self.name=name\n",
        "    self.birthdate=birthdate\n",
        "  def display(self):\n",
        "    print(f\"My name is\", self.name)\n",
        "    print(f\"My birthdate is\", self.birthdate)\n",
        "class Student(Person):\n",
        "  pass\n",
        "class Teacher(Person):\n",
        "  pass\n",
        "student = Student(\"Jeus Miguel T. Manigbas\",\"June 14, 2004\")\n",
        "student.display()\n",
        "teacher = Teacher(\"John\",\"July 25, 2000\")\n",
        "teacher.display()"
      ],
      "metadata": {
        "colab": {
          "base_uri": "https://localhost:8080/"
        },
        "id": "K-bEyg-keZif",
        "outputId": "e5068eb7-5648-41ce-87f1-9c238a805453"
      },
      "execution_count": 32,
      "outputs": [
        {
          "output_type": "stream",
          "name": "stdout",
          "text": [
            "My name is Jeus Miguel T. Manigbas\n",
            "My birthdate is June 14, 2004\n",
            "My name is John\n",
            "My birthdate is July 25, 2000\n"
          ]
        }
      ]
    },
    {
      "cell_type": "code",
      "source": [
        "#create class name Shapes (5 Shapes)\n",
        "#attributes sides\n",
        "#create a function/method displays the number of sides of each shapes\n",
        "#apply inheritance and encapsulation\n",
        "\n",
        "class shapes:\n",
        "  def __init__(self, side, Shapes):\n",
        "    self.__side = side\n",
        "    self.__Shapes = Shapes\n",
        "  def display(self):\n",
        "    print(f\"The {self.__Shapes}\")\n",
        "    print(f\"has {self.__side} sides.\")\n",
        "\n",
        "class Triangle(shapes):\n",
        "  pass\n",
        "\n",
        "class Square(shapes):\n",
        "  pass\n",
        "\n",
        "class Pentagon(shapes):\n",
        "  pass\n",
        "\n",
        "class Hexagon(shapes):\n",
        "  pass\n",
        "\n",
        "\n",
        "class Heptagon(shapes):\n",
        "  pass\n",
        "\n",
        "triangle = Triangle(3, \"triangle\")\n",
        "triangle.side = 0\n",
        "triangle.display()\n",
        "square = Square(4, \"square\")\n",
        "square.side = 0\n",
        "square.display()\n",
        "pentagon = Pentagon(5, \"pentagon\")\n",
        "pentagon.side = 0\n",
        "pentagon.display()\n",
        "hexagon = Hexagon(6, \"hexagon\")\n",
        "hexagon.side = 0\n",
        "hexagon.display()\n",
        "heptagon = Heptagon(7, \"heptagon\")\n",
        "heptagon.side = 0\n",
        "heptagon.display()\n",
        "\n",
        "\n"
      ],
      "metadata": {
        "colab": {
          "base_uri": "https://localhost:8080/"
        },
        "id": "a8ByKXHUgyWW",
        "outputId": "b7f5a264-c3c3-4f13-d16a-51801695e336"
      },
      "execution_count": 49,
      "outputs": [
        {
          "output_type": "stream",
          "name": "stdout",
          "text": [
            "The triangle\n",
            "has 3 sides.\n",
            "The square\n",
            "has 4 sides.\n",
            "The pentagon\n",
            "has 5 sides.\n",
            "The hexagon\n",
            "has 6 sides.\n",
            "The heptagon\n",
            "has 7 sides.\n"
          ]
        }
      ]
    }
  ]
}